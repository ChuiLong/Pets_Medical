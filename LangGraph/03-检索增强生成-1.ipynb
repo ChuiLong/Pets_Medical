{
 "cells": [
  {
   "cell_type": "markdown",
   "id": "0fcbe797-ab19-4d25-97ee-43f3e76c9424",
   "metadata": {},
   "source": [
    "# 检索增强生成（Retrieval Augmented Generation, RAG）第 1 部分：  \n",
    "## 构建一个利用你自己的文档来辅助生成回答的应用程序。\n",
    "\n",
    "### 构建一个 **检索增强生成（RAG）** 应用：第 1 部分  \n",
    "LLM（大语言模型）所赋能的最强大应用之一是**高级问答（Q&A）聊天机器人**。这类应用能够回答与特定信息源相关的问题，其背后使用的技术被称为 **检索增强生成（Retrieval Augmented Generation, RAG）**。\n",
    "\n",
    "这是一个多部分教程：\n",
    "\n",
    "- **第 1 部分（本指南）**：介绍 RAG 基本概念，并逐步演示一个最小可行实现。\n",
    "- **第 2 部分**：扩展实现功能，支持对话式交互和多步骤检索流程。\n",
    "\n",
    "本教程将展示如何基于文本数据源构建一个简单的问答应用程序。\n",
    "\n",
    "---\n",
    "\n",
    "## 概览\n",
    "\n",
    "一个典型的 RAG 应用通常包含两个主要组成部分：\n",
    "\n",
    "#### 1. 索引（Indexing）\n",
    "这是用于从原始数据源中加载并建立索引的流程，通常在离线状态下执行。\n",
    "\n",
    "#### 2. 检索与生成（Retrieval and Generation）\n",
    "即真正的 RAG 流程：在运行时接收用户查询，从索引中检索相关信息，并将这些信息传给模型进行内容生成。\n",
    "\n",
    "---\n",
    "\n",
    "### 📌 索引阶段（Indexing）\n",
    "\n",
    "#### 1. 加载（Load）\n",
    "首先我们需要加载数据，这一步通常通过 **Document Loaders（文档加载器）** 来完成。\n",
    "\n",
    "#### 2. 分割（Split）\n",
    "接下来，使用 **文本分割器（Text Splitters）** 将大块文档切分为较小的片段。这样做有两个好处：\n",
    "- 更容易进行索引和搜索；\n",
    "- 适配模型有限的上下文窗口（context window），避免超长文本无法处理。\n",
    "\n",
    "#### 3. 存储（Store）\n",
    "我们需要一个地方来存储并索引这些小片段，以便后续可以进行检索。这通常使用 **向量数据库（VectorStore）** 和 **嵌入模型（Embeddings model）** 来实现。\n",
    "\n",
    "![示例图片](../../assets/imgs/rag_indexing.png)  "
   ]
  },
  {
   "cell_type": "markdown",
   "id": "915f354c-dd7a-4ad2-ad97-bf2099886fd6",
   "metadata": {},
   "source": [
    "### 检索与生成（Retrieval and Generation）\n",
    "\n",
    "#### 4. 检索（Retrieve）  \n",
    "当用户提供输入时，系统会使用 **检索器（Retriever）** 从存储中找出与其相关的文档片段（即之前分割并嵌入的“chunks”）。\n",
    "\n",
    "#### 5. 生成（Generate）  \n",
    "接下来，**聊天模型（ChatModel）或大语言模型（LLM）** 会基于一个包含用户问题和检索结果的提示词（prompt），生成最终的回答。"
   ]
  },
  {
   "cell_type": "markdown",
   "id": "bf7aadc3-c6d9-49f9-b379-6e344ac0974f",
   "metadata": {},
   "source": [
    "![示例图片](../../assets/imgs/rag_retrieval_generation.png) \n",
    "\n",
    "在我们完成数据的索引处理后，将使用 **LangGraph** 作为编排框架来实现**检索与生成**的整个流程。"
   ]
  },
  {
   "cell_type": "code",
   "execution_count": 2,
   "id": "93c3dac1-8105-4c6b-97bd-64383fb984c2",
   "metadata": {},
   "outputs": [],
   "source": [
    "# %pip install --quiet --upgrade langchain-text-splitters langchain-community langgraph"
   ]
  },
  {
   "cell_type": "code",
   "execution_count": 1,
   "id": "a2a8355b-28f0-4c4d-b7d1-55c00f5e078a",
   "metadata": {},
   "outputs": [],
   "source": [
    "import getpass\n",
    "import os\n",
    "\n",
    "try:\n",
    "    # load environment variables from .env file (requires `python-dotenv`)\n",
    "    from dotenv import load_dotenv\n",
    "\n",
    "    _ = load_dotenv()\n",
    "except ImportError:\n",
    "    pass\n",
    "\n",
    "if not os.environ.get(\"DASHSCOPE_API_KEY\"):\n",
    "  os.environ[\"DASHSCOPE_API_KEY\"] = getpass.getpass(\"Enter API key for OpenAI: \")"
   ]
  },
  {
   "cell_type": "code",
   "execution_count": 2,
   "id": "85da6f81-f7af-4409-8052-f3af4d59c1e3",
   "metadata": {},
   "outputs": [],
   "source": [
    "from langchain_community.chat_models.tongyi import ChatTongyi\n",
    "\n",
    "llm  = ChatTongyi(\n",
    "    streaming=True,\n",
    "    name=\"qwen-turbo\"\n",
    ")"
   ]
  },
  {
   "cell_type": "code",
   "execution_count": 3,
   "id": "379e5cbb-ccdb-4d42-8b8d-06a977d6cbe8",
   "metadata": {},
   "outputs": [],
   "source": [
    "from langchain_community.embeddings.dashscope import DashScopeEmbeddings\n",
    "# 初始化 Qwen Embedding 模型\n",
    "embeddings = DashScopeEmbeddings(model=\"text-embedding-v1\")  "
   ]
  },
  {
   "cell_type": "code",
   "execution_count": 4,
   "id": "b67c7e25-7bb7-4eef-9452-701db091700e",
   "metadata": {},
   "outputs": [],
   "source": [
    "from langchain_core.vectorstores import InMemoryVectorStore\n",
    "\n",
    "vector_store = InMemoryVectorStore(embeddings)"
   ]
  },
  {
   "cell_type": "markdown",
   "id": "442a9607-b0ea-46de-ad77-cb7eb5db296b",
   "metadata": {},
   "source": [
    "### 预览\n",
    "\n",
    "在本指南中，我们将构建一个能够回答**网站内容相关问题**的应用程序。我们使用的具体网页是 [**中小企业出海对接交流会**](https://gyxxh.tj.gov.cn/glllm/gabsycs/gxdtgh/202504/t20250408_6902492.html)，这将使我们能够针对该文章的内容提出各种问题。\n",
    "\n",
    "我们将通过一个简单的索引流程和 RAG 链来实现这一功能，整个实现仅需大约 **50 行代码** 即可完成。\n",
    "\n",
    "### 详细解析\n",
    "\n",
    "接下来，我们将**逐步实现**，帮助你真正理解每一步究竟发生了什么。"
   ]
  },
  {
   "cell_type": "markdown",
   "id": "3f62d56a-7579-4e96-b058-cfea15132bb7",
   "metadata": {},
   "source": [
    "### 1. 索引（Indexing）\n",
    "\n",
    "#### 加载文档（Loading Documents）\n",
    "\n",
    "我们首先需要加载博客文章的内容。为此，我们可以使用 **DocumentLoaders** 工具。这些工具可以从指定的数据源加载数据，并将其返回为一个 `Document` 对象的列表。\n",
    "\n",
    "在本例中，我们将使用 **WebBaseLoader**，它通过 `urllib` 从网页 URL 加载 HTML 内容，并使用 **BeautifulSoup** 将 HTML 解析为纯文本。\n",
    "\n",
    "我们可以通过 `bs_kwargs` 参数自定义 HTML 到文本的解析过程（具体可参考 [BeautifulSoup 文档](https://www.crummy.com/software/BeautifulSoup/bs4/doc/)）。  \n",
    "在这个例子中，只有包含 `class=\"view-wrap\"` 的 HTML 标签是相关的，因此我们会移除其他所有标签。"
   ]
  },
  {
   "cell_type": "code",
   "execution_count": 12,
   "id": "47b4c745-fe83-46d7-8aed-d229bfc6e65e",
   "metadata": {},
   "outputs": [
    {
     "name": "stdout",
     "output_type": "stream",
     "text": [
      "共加载 307 页\n"
     ]
    }
   ],
   "source": [
    "# import bs4\n",
    "# from langchain_community.document_loaders import WebBaseLoader\n",
    "\n",
    "# # Only keep post title, headers, and content from the full HTML.\n",
    "# bs4_strainer = bs4.SoupStrainer(class_=(\"view-wrap\"))\n",
    "# loader = WebBaseLoader(\n",
    "#     web_paths=(\"https://gyxxh.tj.gov.cn/glllm/gabsycs/gxdtgh/202504/t20250408_6902492.html\",),\n",
    "#     bs_kwargs={\"parse_only\": bs4_strainer},\n",
    "# )\n",
    "# docs = loader.load()\n",
    "\n",
    "# assert len(docs) == 1\n",
    "# print(f\"Total characters: {len(docs[0].page_content)}\")\n",
    "from langchain_community.document_loaders import PyPDFLoader\n",
    "\n",
    "# 指定本地 PDF 文件路径\n",
    "pdf_path = \"animal.pdf\"  # 修改为你的文件名\n",
    "loader = PyPDFLoader(pdf_path)\n",
    "\n",
    "# 加载 PDF 内容\n",
    "docs = loader.load()\n",
    "\n",
    "# 打印内容信息\n",
    "print(f\"共加载 {len(docs)} 页\")"
   ]
  },
  {
   "cell_type": "code",
   "execution_count": 15,
   "id": "c1449a8a-0015-4ce9-a1d4-acca1545d297",
   "metadata": {},
   "outputs": [
    {
     "name": "stdout",
     "output_type": "stream",
     "text": [
      "病诊疗与处方手册\n",
      "除感染消化道外，有时可转移到支气管、肺脏、皮肤、肾脏和心脏。当散播到支气管\n",
      "和肺脏时，可出现咳嗽、胸痛和体温升高等。\n",
      "(二)治疗方案\n",
      "治疗原则为抗真菌、消除病原。\n",
      "【处方1】克霉唑 15～25毫克/千克，内服，每日2次。\n",
      "【处方2】伊曲康唑 5～10毫克/千克，内服，每日1～2次，连用2～4个月。\n",
      "【处方3】制霉菌素、克念菌素、两性霉素 B 和1%碘液外用，每日2～3次，连用\n",
      "1～2周。\n",
      "八、芽生菌病\n",
      "( 一)临床症状\n",
      "芽生菌病是由皮炎芽生菌引起的一种深部真菌性疾病，主要感染犬、猫的肺脏、皮肤\n",
      "和消化道。本病潜伏期的长短取决于动物的抵抗力，短的数日或数月，长的数年，多数呈\n",
      "慢性经过。芽生菌的靶器官多数是肺、眼、皮肤、皮下组织、淋巴结、胃、鼻腔、睾丸和\n",
      "脑等。这些器官受侵害后出现相应的临床症状，如呼吸困难、咳嗽，X 射线检查发现肺叶\n",
      "有局限性小结节及纵隔淋巴结肿大等，还可见体温升高、消瘦。有的病例皮肤有溃疡，病\n",
      "灶伴有渗出物。部分病例出现眼睑肿胀、流泪，有分泌物流出，角膜浑浊，严重的可失\n",
      "明。如侵害关节、骨骼，则出现跛行。约40%～60%的感染犬表现为弥散性淋巴结病，可\n"
     ]
    }
   ],
   "source": [
    "print(docs[50].page_content[:500])"
   ]
  },
  {
   "cell_type": "markdown",
   "id": "a1481e99-499f-4154-9270-222a082e6769",
   "metadata": {},
   "source": [
    "### 深入理解\n",
    "\n",
    "---\n",
    "\n",
    "#### 文档加载器（DocumentLoader）  \n",
    "**定义**：一个从数据源加载数据的对象，返回的是一个 `Document` 对象的列表。\n",
    "\n",
    "---\n",
    "\n",
    "#### 分割文档（Splitting Documents）\n",
    "\n",
    "我们已经加载的文档长度超过 **42,000 个字符**，这远远超出了许多语言模型上下文窗口的限制。即使某些模型能够容纳整篇内容，在非常长的输入中查找信息仍然会变得困难。\n",
    "\n",
    "为了解决这个问题，我们将整个文档分割成多个小块（chunks），以便进行嵌入（embedding）和向量存储（vector storage）。这样在运行时检索时，系统只需获取与用户问题最相关的部分内容。\n",
    "\n",
    "我们采用 **RecursiveCharacterTextSplitter**。该工具会递归地尝试使用常见的分隔符（如换行符、空格等）对文档进行切分，直到每个文本块（chunk）的大小符合指定要求为止。\n",
    "\n",
    "这是推荐用于通用文本场景的文本分割器。\n",
    "\n",
    "---\n",
    "\n",
    "### 示例代码：\n",
    "\n",
    "```python\n",
    "from langchain.text_splitter import RecursiveCharacterTextSplitter\n",
    "\n",
    "text_splitter = RecursiveCharacterTextSplitter(\n",
    "    chunk_size=1000,   # 每个文本块的最大字符数\n",
    "    chunk_overlap=150  # 块之间的重叠字符数，保持上下文连贯性\n",
    ")\n",
    "\n",
    "docs = text_splitter.split_documents(documents)\n",
    "```\n",
    "\n",
    "通过这种方式，我们可以将一篇长文章拆分成多个较小的段落，便于后续处理和高效检索。\n"
   ]
  },
  {
   "cell_type": "code",
   "execution_count": 16,
   "id": "a422522b-a53a-4c1e-9e35-2f63f6730636",
   "metadata": {},
   "outputs": [
    {
     "name": "stdout",
     "output_type": "stream",
     "text": [
      "Split blog post into 474 sub-documents.\n"
     ]
    }
   ],
   "source": [
    "from langchain_text_splitters import RecursiveCharacterTextSplitter\n",
    "\n",
    "text_splitter = RecursiveCharacterTextSplitter(\n",
    "    chunk_size=1000,  # chunk size (characters)\n",
    "    chunk_overlap=200,  # chunk overlap (characters)\n",
    "    add_start_index=True,  # track index in original document\n",
    ")\n",
    "all_splits = text_splitter.split_documents(docs)\n",
    "\n",
    "print(f\"Split blog post into {len(all_splits)} sub-documents.\")"
   ]
  },
  {
   "cell_type": "markdown",
   "id": "f32e9294-ec8f-4620-840a-563646765d54",
   "metadata": {},
   "source": [
    "### TextSplitter（文本分割器）：  \n",
    "**定义**：一个将 `Document` 列表拆分为更小文本块（chunks）的对象。它是 `DocumentTransformer` 的子类。\n",
    "\n",
    "---\n",
    "\n",
    "### DocumentTransformer（文档转换器）：  \n",
    "**定义**：对 `Document` 对象列表执行某种转换操作的对象。\n",
    "\n",
    "---\n",
    "\n",
    "### 存储文档（Storing Documents）\n",
    "\n",
    "现在我们需要对我们切分后的 **66 个文本块**建立索引，以便在运行时可以对其进行搜索。\n",
    "\n",
    "我们的方法是：\n",
    "\n",
    "1. 使用嵌入模型（Embeddings model）对每个文本块的内容进行向量化；\n",
    "2. 将这些向量插入到一个 **向量数据库（Vector Store）** 中。\n",
    "\n",
    "这样，当用户提供查询时，我们就可以使用**向量相似性搜索**来检索最相关的文档内容。\n",
    "\n",
    "---\n",
    "\n",
    "### 实现方式\n",
    "\n",
    "我们可以使用在本教程开始时选择的 **向量数据库（VectorStore）** 和 **嵌入模型（Embeddings Model）**，通过一条命令完成所有文档片段的嵌入与存储。\n",
    "\n",
    "示例代码如下：\n",
    "\n",
    "```python\n",
    "from langchain.vectorstores import Chroma\n",
    "from langchain.embeddings import OpenAIEmbeddings\n",
    "\n",
    "vectorstore = Chroma.from_documents(\n",
    "    documents=docs,\n",
    "    embedding=OpenAIEmbeddings()\n",
    ")\n",
    "```\n",
    "\n",
    "这段代码会自动为每一个文本块生成嵌入向量，并将其保存到向量数据库中，供后续检索使用。\n",
    "\n"
   ]
  },
  {
   "cell_type": "code",
   "execution_count": null,
   "id": "91a6f4f7-7b43-4018-973b-1c774a603587",
   "metadata": {},
   "outputs": [
    {
     "name": "stdout",
     "output_type": "stream",
     "text": [
      "['311036f6-b244-422d-bc5f-a7c6dfd5eeea', 'f08a9da2-1c77-4c54-91ff-23c577608aed', '9e0070da-52a9-4a9c-8aea-606ea9c589c7', '4e08b594-559d-4a7f-a6cb-756da27e347d', '1094d584-5dbc-47ee-996c-965f52a2fe3d', '554f7f19-3873-47f6-a4b1-c92e317c56a4', 'b76cc139-cc5d-4dd1-aa56-085e7172dfd4', '3aa553bf-efe7-4aca-ba83-7cd8eecaace5', '2eab7e57-2453-408b-919b-e1be9188b816', '72d1dfe7-3195-45ed-b92a-bbd9f2e95e16', '2f35e52b-25e9-40e5-9ab2-e45eff03da88', '093988ac-8f97-49f1-b1a6-d1deb054f4e2', '438d545d-fb70-45ca-9cd0-f17107e85e6f', '562a566b-b452-42cf-b220-8a94b376f987', '3905603d-ae66-47c0-9369-ba3028af362b', '9e440e4a-d9b0-4818-9097-0e059fa057cb', '0779f739-b461-4c9a-a178-b0e8442bd26b', '3f912ba9-34af-4c3b-a116-5cd38d55ea6f', '03795c3b-b9e4-4b07-bf54-414e7fe9c0a7', '41deab57-316c-43c1-ac6e-53dd8bb7be37', '0bfd0577-c3e5-4c41-be15-3c4461bd1ea9', 'eb9b8329-1a30-4d13-8963-e70aaa816b0b', '961ecd95-b663-4c37-996e-98e79afbb14a', '6e3dfaaa-679c-4cfb-b10e-aefd46b6d3ad', 'e7533c42-c567-4095-917f-c63da27c5347', '64194fec-5595-458c-b004-57e0aa5108ca', 'abb7c9cb-eb6d-4058-903a-da7603dc5c39', '0855ba92-b7ba-422c-bab5-35e6a7fee66e', '0cbee076-6aa5-447d-bba8-174f352ed829', '422a11cb-1c31-44c3-b020-ed2fb4a7d150', 'aa11c160-cda5-4a8a-baca-14ea63cca1d7', '7a5b6e8c-646b-4e5b-a58b-6efdcb94027f', '7bedf0f2-0c7c-4948-bfc9-5e96fe11fcd4', '9d572daf-4d4d-4683-81fb-4554b554a747', 'ec235969-9437-4f53-b7ae-372cfdec80a7', '7859d10f-88de-495c-8ade-48946cf5beea', '3993524f-2382-4f3e-b784-7c5bfdebf339', 'bdb17da3-853a-4627-bb9c-52389b9e00f9', 'f1316737-e2ca-45ef-ba09-54cea44cc7bd', '7080cc42-e127-4221-8327-88c124530f59', 'a70ebd28-1135-4ebd-bc9f-a74225a03559', '9e9cadfe-0c5f-438e-bcbb-e6b366e66e3d', '50481bc8-a7fd-4dc2-a3ea-23494e6eb0ec', 'f95b09aa-d323-4ab6-899e-5582cb6dbab8', 'c1563d9c-a554-4010-acf1-71a5d7f9d28b', '7ea5eefc-6dfb-499a-bdcc-df863020fd14', '16ae8e65-74fc-41e3-bb3b-b918d4a737c0', 'c0a11df4-95e1-4045-bbbc-c48c2acd6d87', '95894a98-4d6f-494d-bba0-ba450dd72baa', '2972fdb4-1a38-4b8e-934e-a9350b8092ed', 'ab9a259e-0bde-4b9d-af32-03827073e51d', '6a7075e1-c23f-4eb6-9bf9-8e652c444695', '7670629b-e1c8-4df0-a44e-e1d7e99d67c2', '71bf4d70-8895-4e11-bbc8-a802880a9872', 'cd460565-affc-450e-85e3-122d566306cb', '9e6f74a2-e140-47fb-89c1-9a357e968816', 'dbaa4005-41c2-456d-9a60-d96e11fe9a55', '2a771aed-1f6e-4c44-ba32-4c12de1fd421', '2aca86a2-bc2e-4610-9cb8-89229512c442', 'ad33c8a0-c1b5-4dab-8dc2-b383319d3c1f', 'd51190e0-bd2f-4aa9-84b9-4f9396ad2926', 'd3c5be4c-4278-4b55-847a-622fcff2a18e', '6e752769-66ac-442b-8787-b7a06d174a44', 'c0f68e88-a519-4204-ad04-b40e2dc2ea28', 'e7c6347d-4093-4dff-b5cb-ded546dda264', '1302484e-db9f-4069-a62a-a934f56c80a8', '82927c96-c296-4dc0-9d57-9c6201f69dc3', 'c4949375-4b75-4939-9b67-2dfd49752dca', 'c2e78f5b-9e7c-4282-87ae-2381c6bac87c', '05bf082a-bef5-46a8-92be-39cb309c99d3', '48d351b8-6e2b-4c8e-8849-f54b0301019b', 'e7682a6d-1818-44c4-95ba-4336ae21118e', '40b79b52-e4cd-46d9-ba71-c7fe691eab0f', '51717c64-5ef3-43cb-a153-be776de09e90', '8abff364-1fbd-45f0-bfb3-e7a030c3d30f', '2b0c6965-0f23-4289-bd97-dd61afc1a98b', '6755182d-558d-457c-9c27-cca72e0ce537', 'b25b6bfe-f63a-4190-b5ab-60a886c8cf48', 'bb786fe9-d994-4408-a47f-0515794b25f5', '7e58395b-3956-4903-9153-3f71f2919309', '97a4eb1d-6966-4fa1-9225-a80e5423cdd3', 'f4179e72-5155-4575-ad88-eb31310c4d13', '7d10bb98-4321-41c1-8f40-b034e1101385', '35d8f06d-c4e2-4043-bbf4-c3eca27af109', '070f3be5-b2f8-43da-8e0d-c5cf7619cf3c', '77f3e541-0fdc-4a43-9722-606c9b919e6a', 'b4c6a591-186b-4519-a31a-f11a28b7e87f', '6a3f0099-223e-46b2-aa27-3db8c29e149d', 'baa06a38-0ba1-42d5-af9f-d492e3a38fb9', '4ab0cbe8-ab29-4498-86b7-c7c4740c9aa2', '0dc972bb-acf5-49cc-8423-2f53f6ecfd9d', '1b475306-5baf-4637-ad7e-2d02d3bd58ea', '2a1d0219-a3b2-4f9b-b200-66fb6635b24b', 'b635dde9-0d1c-4226-9cb3-fb7dcf5e1f83', '003d3469-2fcd-42df-89fa-15f640869478', '4bfd8fc3-3a33-41b9-9bd3-b33292715dab', '4b641ccd-b337-4759-aa7f-a32d8565e650', '784c79f8-1849-4e86-ac90-6ca6220f31aa', 'a3f93c08-48c3-47cb-9e9f-3e999f02d770', '400051cd-ec5b-4237-8871-a52484632850', 'e310d8bd-1420-4e01-928f-2389a859033d', 'd60be3f2-0a9c-4f8e-95bc-8a67419fa5b0', '6ec5ebef-ab8b-4c3f-8f12-183a7214bb08', 'a3328899-5e16-4bd4-b3cd-16d94f619e4a', '69b45451-1106-4618-8a3c-889d79d17e52', 'f0002f90-230c-481a-97f5-6d8535fb75fd', '6951a8d8-73e1-46aa-82ae-add06bb442ca', '6c5bc175-c970-4e0c-8479-221771164f09', '4a542fd0-ea88-4315-a28a-203308efe554', '309c90ea-6096-46a9-9dfe-d428fd87e506', '03b6a1f1-af12-49ea-a40e-aa71b35976cc', 'a7fc1177-3eeb-47d8-b0ed-45cb9dd82867', 'b0b607ce-865d-46c2-84ef-059bcb278665', 'eac71110-e62a-4958-bdeb-f01f394bd3b3', '46bd7c22-46ef-4b6a-9645-052d35391beb', '7f28251a-396e-4f61-a765-c5187d161594', 'e800692a-fe8e-4057-9742-88fef835a7bf', '22cdeac2-e460-4ead-bd9b-7c156986b0f6', '891a9edb-773b-4e58-91b0-b1de57c59c73', 'b61ad3e7-7a5b-464f-892d-1e62f467c135', '44abe8ef-3f13-46f2-9339-108dc206d0fd', 'c86eae84-17d4-4fe7-a098-87546983a114', '7617c2c4-14f1-46a0-a520-df8f8c141df5', '4726c2e2-5bd4-4459-bb37-26565c3aab79', '2541542b-a766-4c48-a311-76f6a618cd91', '70e9f9d3-4f4c-420b-b9d2-39789ab39ffc', '87bfb897-a464-4414-a9d4-120f534e1f3b', '9dbc951c-6e24-4859-94fa-f5e52ca8f0e4', '1368ce43-0689-4211-b8b9-01bb8911bc2d', '6ce95f05-078e-4675-82d5-c7b7862d9e02', '9353e411-8e10-4849-b23a-455f32b5cd83', '971e2060-867c-4a13-b6f1-87205655ef6e', 'ee1cdd59-6ae8-4240-a243-826e1726df83', '241b6df5-ec11-4cff-a948-b19f60447f12', 'c025d479-ffe4-4eab-a4f3-dae8a4d798d7', 'a46152cb-4ee0-4a46-b131-2f77c7b4276a', '72d005e4-940b-4e2f-9376-b08803eeaae6', '724a503f-69e0-4122-bd2a-72f6ec39a355', '9c50309e-2b24-468c-9f2d-672188b3c9e6', '8daa235e-da35-4753-bc6b-99967c581eac', '8917a8a3-95c2-48f1-bf55-4bf614dcc99c', '9c8b1258-0c05-43d9-a14d-afdc980b3c6a', '809e3946-812c-4fcb-b61d-3a2d3b91fc0b', '741a1e0f-8bcb-4595-a60e-79047f42bddf', '18a37026-8606-499e-b535-28b045076d1a', '9eb3dd46-9d65-4013-a94c-70d1a9b1bbdd', '77b383fc-dfea-41f9-9c15-55f0b70c45ea', 'd6f991e9-0d04-48a8-9452-8b9cdfc68820', '53311d92-bee5-490c-a92c-0dd6382e81e4', 'ef4d3e0f-d23f-4d77-8e32-36f524e8f3ad', '489e5b56-b4d5-467d-a873-aaeaa866d123', 'ac8694de-7082-4fac-8b56-36b5600a36ba', '19f48d8f-0634-4fce-92e6-d009bc8fdc3b', 'c4d9038a-95e5-4b2a-8b96-9315e42fbcb9', 'c0c704e7-4803-49a3-8b4b-878d7feb1109', '1b92e873-0dc3-44c8-8bb3-c9e17f7af9c5', 'c1d0baf6-47c9-4bef-babd-767d1add65a6', 'e66d744d-f73c-4cfb-8c39-ec0f519fe5f7', '526bc0ae-c61c-4d6f-81d6-845058f943ce', '17751c5a-552e-46c3-b5bb-bd17a894ecc8', '86e044e2-5363-4598-8326-24a1b9e5e2ef', '7876540e-9208-42af-8e71-549e9519ade7', '0ea7ce41-1c68-480d-a03f-e922465600f3', '5016c24b-bb08-4387-9f8f-7e4d26c064ff', '807e98b4-418c-4667-a7e8-ee97bd4fe62a', '44c7544a-0e66-4f83-b93d-0e794308f87d', 'c72d5ea5-58be-45b9-ae86-999c415e776f', '54cc7127-4f8e-4718-b1a7-b35568893661', '348768c8-45b5-45a3-ba73-820632a7f9bd', '71181cb4-7a12-4855-9c12-2028755013b6', '442da879-3e7f-45b3-bd57-a580d70d8d9a', '42772d79-44ca-457e-bdd8-5ec1adf4ac6f', '1a310f5a-a3c5-41e0-877a-23873aa1a77c', '07abfbca-f3a0-41d8-81bf-a1ca0362d64d', 'a634b5c4-ca60-4ffa-9bfa-31244a3726a0', 'f776a9ed-db7d-44c6-979d-f1509521f196', '6d27fcb2-ed96-4583-b0a1-214fd1fc520f', '39e0936b-3eff-48e0-bbbf-282cb852e457', 'f227a57c-9dce-4e44-af52-f398b4118074', '973ce22e-2dfc-4691-9f1e-13e42b6896a5', '02ba21f5-b5b6-4a3b-ae39-52e5b8e8382d', '464704d2-7cc2-46d7-86b7-9769de12e618', '62fd87ee-c113-4e23-96dc-cf82d48f0893', '2854f4fa-db09-4697-9dde-492a8bb45c6e', 'aafe4f25-5432-4a09-89d2-d38685acf1d6', '815c1a60-5854-4c4c-bca8-cc9d50d6f7ca', '4132e88a-0725-4609-96ba-bf30b6f99e21', 'c2d23ed1-7894-49d4-8284-aa6c7305550e', 'e75134c8-a149-4a62-8c33-4d83fea43b64', '2a7407e3-f0f1-4a1c-8afa-4a1ccfb209ee', '33786a44-4199-4f51-a5ed-021d26a64122', 'c4f9e522-9157-4880-9dd2-4ebfe8faa7f2', '727e7000-fcc1-46c6-b42e-50c6bc7ed265', '9d95a149-422e-4f61-ade0-bcf66c5dd9f6', '9c37c50f-10f1-4104-ad38-08db8b0ac55d', 'ac287169-f12a-4a9d-9dd8-a8abd271a06a', '02e9e66b-0772-4282-bb51-cc877830b98c', '2d36b215-98e8-4089-aa2c-ef1904000b4e', '4ab920e3-0289-4add-8a6a-9d0b1a0aa64f', '444b8433-7ae9-4fbc-9ab4-e723eb4f4dc4', '7e844f38-8d93-4e44-ae52-c5f1a51d900b', '55cc21ab-4152-4e04-88fe-d09adee49149', '12cfe49f-6870-497c-8228-08d39655ef69', 'be3f91a4-0bf0-48e6-af78-4c3cf99ccd68', 'f2c35da8-00e9-4ad5-bf3d-aaf942b64d5f', '03954a03-af50-4cde-9b72-65e52d959fd4', '3d4f0aa6-6c6c-43b0-aec1-0311e8162623', 'ad801587-c651-479a-82ec-a0d6bed43198', 'ec459efc-0f1c-47e9-8cd4-0ee50d206527', '3a0235f0-6713-45b1-922e-0e49c2d066aa', '0d68b902-dba6-43f7-bc07-94786c2d41a8', 'a505bb2f-3e78-47e9-815b-44c3a19f6a55', '8cee7d77-f84c-4234-9ab0-170165364500', '1905b474-b15c-41dc-b333-d95aad599d68', '96e5696a-8c47-45fb-9eea-7053cac8855c', '50bc4f8c-1a12-44db-b817-e95af31f4ba8', '159d7d3c-feab-4392-8fde-ee6b7986cbfd', 'e7a7bda1-a496-49c6-ac7e-89084ee4ecd5', 'c33edff3-065c-4b28-a0be-3a12d0bc9c29', '542000ab-5818-4560-9929-8a6e508974db', 'aa57a41f-2a6a-4e7e-95e9-44b36f461b7c', '6cf067f2-4a81-4ee1-9ab7-f285332832f4', '659ae613-8f39-4f6a-939d-e409c683a54a', '2b4e6f1e-41ed-4d02-899f-5c5e83818276', '6444fc77-0ea4-491c-9b37-192f1f0ff5f4', '8054a313-8007-42b7-a297-7ec16935761e', 'f99ff692-1d7d-4e8d-b4da-9b4eb572685f', '89021368-ffa7-492a-ad6c-8d0db3e3003f', 'd4f4717a-750b-47e0-8b4a-00e689e7a241', 'f83d8e68-6d28-4f6e-99ae-a03f46381b19', 'd27f0a4b-0ab3-4aa7-ac8c-7b412d25b747', '855062e2-6eaa-4230-b254-519194a7b0b2', '50628f68-7335-45aa-b5cf-82ed401943d9', '01550051-6afd-439b-b06a-cb6a038d25c6', 'b4bbe419-7dad-4a4e-8eec-fa5569efc251', '3d2c07c7-cf40-4059-81d8-505139c8f8e8', '305a8efb-6491-46b8-8fdb-ff5bb440fcbe', '87eb4a8e-76fa-4596-9484-f19fdd39aa26', 'fcd1bb8a-6944-4546-a7da-bf37fce1110e', '0546d754-bcab-404f-a9c4-0cef461af060', '51b36cad-6bf5-4791-9cc2-084e59bde28e', '08342ce6-fac3-47ad-a94e-cee57a532f74', '49a07090-e742-4055-b86c-c6f98f1aa945', 'fc679cb2-3fca-4092-b1e2-b6235e738b2c', '6e74b694-b589-409a-876e-92a80b49682a', '44ec0fb9-9ce2-425e-bd87-ce6f77534ac3', '34a918ad-45f2-4ff4-aa67-acbdf612ec40', '8f552915-641b-47cb-974e-9b90e34ea29e', 'e37f94e5-ab47-4d7e-b2ec-290dabf06bec', '8c2fc0e7-3b60-4d46-b9dc-6eb235d472e1', '8a7013ec-3f14-4bc0-9a69-4027783c7c20', '78b700a5-1cc4-45a0-9adb-d4c7357c3643', 'ed64e867-9fcf-44a2-ab98-eb617323bc7c', '3565778a-7760-47db-8343-f298d6f2c2f8', 'e56a470f-a890-49ac-b8f3-94724a950fb3', '8ca886aa-8a5f-4e30-ba5e-380d1102361b', '63048699-13e6-4e4a-af5c-4f5e9df74d03', '04ce58b2-f360-47ac-8f1b-4102e959621d', '80bd494b-21bf-4b8f-bd03-8b90be38eb22', '17b7e77a-cb94-44b2-a89b-039797704d35', '5b39d6b1-3d23-48d1-889a-1e4179be8534', 'a6a41754-bd64-464e-8cec-72fa517f5e0b', 'e74f2218-2487-409e-b78b-e96be5d3cf65', '6864de99-9ef4-456a-9630-8aca5a73d387', '779d16bb-6dad-4afb-b822-8388054aa717', 'f151ba81-96f5-43c3-80c1-70cba560a823', '7edf6562-efc4-4a06-afff-a6377ebd484c', '566c904b-55d0-4061-b211-33a218fbf0aa', 'b9311d9e-91fb-428d-8399-ccc412b5947e', 'c0b3151a-03df-4928-aca1-fd01f8632d3d', '9412736e-f741-41d3-b8c9-880f1579e91b', '1c32b010-0a00-4244-a93a-26004ccf9222', '21e167ba-d103-4317-96de-08ba2d7b25b3', '4dcef650-7fc8-4a1e-b28f-65dc1cacb8a6', '81994b76-757e-49d7-af25-6c655e968fc0', '57f8e82a-d499-4224-9092-59d2d36209fa', 'bd248dd1-a0d9-4c12-9b9b-a2a2ffe6526f', 'f0eca373-03e5-4f14-88eb-394960be3706', '7805aa2b-b292-45c2-9c94-3bb0f78a2eb1', '6603948b-4200-401f-9650-4ad19453f6ae', '74da2c0c-7aa7-469f-986f-388ee45fa330', 'c2e75b3d-d611-403b-8077-5814c037218c', 'a727362b-8252-45a4-94ff-78704ebf9bff', '354f3ffc-aeda-4b95-854f-36672fe15772', '69fe0101-7abc-4440-8a27-b66042ce6ccc', 'b6c84f22-1e75-42a9-b861-f65a9299d512', 'de7b6a1f-bf8a-4811-83eb-7567a5415d8c', '09cee15e-95ad-45a9-a995-341f2ea2594a', '3f80d795-40fb-400c-b0de-e1b68d0e00df', '515dd52a-f6ae-4796-88a1-9e32850a34b3', 'f9323b82-11f9-4236-817c-6f11189ce708', '22e11cb3-9102-49a7-8709-797a2969ea7d', '8c28587c-f2a2-425a-bc6e-24f9c02a345f', '61805113-5a6f-42b8-a7a9-d72d77760d09', '99d85780-6c1d-417c-9f1f-9e07e2ff5bdd', 'afbe0a5b-373f-486c-882c-15b9b2f60db5', '78125cd4-c07b-4bc2-9125-5406c454315f', '21122724-8c20-4e0a-b1ae-65a59ce1d37e', 'a5aecd78-6535-44c7-b2b0-3fac010eec54', 'd448106e-fdd5-47cc-8b34-5e9e1b595a19', 'ac512a5e-72e2-4e95-b374-8cddfc397fac', 'c64443a5-16c3-4792-a3f2-a1eb40ba7b5e', 'd1c2f510-505f-4607-a286-4409bd0ac976', 'bf221199-eaad-4495-99e6-2c549dcf9f1b', 'f786e49b-53cc-4766-9e17-c5a997315f40', 'fb228197-355e-49da-b0a6-e1489e49ac1e', '0c3a1b2e-f59e-4db1-b2d2-bbbd30653e28', '927a920d-dc49-4b1e-b8f0-004098bd6d2b', '686d0457-01e3-49cb-8a2a-be756b40902a', 'e0cc47cc-5228-41a3-ab60-7d52b96ee875', '1acbb490-6bb6-4d3d-8337-dd682a00f20e', '539ce71e-704b-4103-902a-3e42832de2a3', 'bb83e20c-3023-4074-a5f3-dfe146a0cb44', '7652e856-80ca-4db9-a27e-70aaae52fb42', 'fce342e5-e33c-4cd5-83f3-32e5a29e3143', '1b194853-7330-4bea-a750-4417778ae74c', 'c45feff1-eea9-4c6d-b82d-d111ef5ec825', 'cc40b6bb-94ce-4d0c-b9a7-bb4e3870588b', '688259d3-e659-4090-af76-0fb5b8f5b718', 'fd4c8e26-189c-48eb-9602-2efb0f53688d', '92115c3a-44cb-4900-bb4e-74eeada4230c', 'f4609387-3967-4a0e-95ec-a4a30c5c8a67', 'c132ede2-7509-49d2-9221-69d3dbf57be2', '43718179-8d4b-4e0f-be31-fbd052913ddb', '28970225-4bb5-4a51-99f3-2ec4cd96d5fd', 'be222f94-c062-41fe-8c9b-b146b75b8c89', 'fcfa5c65-993b-454f-ae4b-2566f2793577', 'db392387-ae36-4ca1-a6f1-96952ff9cb67', '154795cf-3358-4025-8cbe-865ec959980b', '014b7d6d-375b-4aa3-96cb-d5681f40fd4f', 'f50449a2-fa2b-40e2-ad0d-87796eb059b5', 'e0fe77ff-7bdc-4d50-8b0b-af0f0baf210c', '5e3262f7-0f62-4248-aec5-e24a30923b6d', '1a633d8a-9757-4df9-aded-a6e7948e18ae', '49f5a5e5-9152-421e-ae82-fa1fa32bfde1', 'abdc207b-ff10-476c-a971-afb959723f61', '772c6ce7-c9b6-477e-81af-3929ed51da43', 'c168b82e-ab35-482f-9efc-4b815750bb5a', '8048c812-5bae-4b8a-a845-7ac26870d232', '39a76ced-d176-4075-80bf-66da90dd5e70', 'ca53d625-dc7e-47b2-bc86-f991755cec59', '8b093622-91b5-4d17-a5a1-bb24be67ccbb', 'be900285-332f-407b-85d7-5bd51263270f', '95d5dbcc-c3bc-4bc8-98ef-b3e9871442df', '8a4dc818-9e36-42e6-90af-4095c2686a16', '560c4f0f-1ba9-4e59-9913-dffbb1181908', 'e9b581bf-1300-42c7-a20e-d1ad36645d89', '1f2d8057-e58c-4681-b8d2-ff0c26b5baa8', 'efbc17c4-99ee-41c9-a8a0-f47746312351', 'e87cec83-54ce-490d-8375-a7133f82168b', 'e046f843-f034-4924-aac7-b3bc53d8ee9d', '1db2e84d-d7eb-4f97-b4f0-f5fae23e65c7', '920d79d1-02a3-4b1d-ae53-8ccb2531b470', '09c3f4a5-6e69-45be-a050-08fa7b186349', '0ee052d8-520f-49f0-8390-79ccc6ddd77e', 'aa241982-7882-4b5b-8599-d303a82c4992', 'd0960223-c294-4f36-9270-02e92d8512a6', '04cea6d6-4ba8-4f1a-9ee4-c0ece0c6220c', '18dccffc-e412-4d75-80d1-8498b51ba01c', '42cb047a-8f92-42f0-8d55-5af1ad5f71e6', '1eb668af-9e2b-4cd8-aa4b-f7bf324fb487', 'e74d89dd-ff76-4273-8128-4191c4dea878', '49225318-84fd-454c-a34e-f1363a344de2', '9f4a2951-e66c-425b-8160-373fcdae6c2a', '70c81ef6-2528-4cb4-85f4-dd74404a676a', 'c4e4f62e-0af7-4a7c-8d4b-1a4e2d3927e8', '5d4655c9-4bfd-46fb-a3dd-a21de3d29077', 'b71a8cf9-027e-4510-93b1-234ec3d6562b', '92b7eaf8-d1ae-47ea-b18c-d5fdb9810240', '07c3b3eb-ccf1-4ea0-a1f8-1755a83cdd2a', '74503a7b-c6db-4b4d-b110-47f53d62948f', '4e82da68-041e-4360-913d-2ec8b9c0a77f', '6ec4a52e-be66-4463-95fb-aed524932afa', '692b8eea-ed5f-4956-9751-5a404d2fd137', 'b09c6cac-270a-46cc-8cd3-3d9639bda66f', 'eb44ea1c-74e3-4016-954b-1a38efb0bcb7', '651ce291-c0da-4f26-b38e-a162c0cde7c2', 'dad36211-81fa-4083-8850-fdf3fcce47a2', 'd9747399-4052-46d7-b909-3f16338f13cf', '52dbae04-2a7b-4df1-bf46-7a0837ccbb8d', '831f746e-b766-4224-a857-520d5d592b4e', '865cd738-a838-4b86-8749-56c8125da03f', 'e1e27b5d-fa5d-4132-b301-6e97589e3f53', '01011c44-7166-4228-a80b-5a982a35f280', '24756c24-885f-4a1e-b4fd-975a5146722b', '3a327983-7a84-4d79-91de-18280369b037', 'baad8c41-d584-4104-a536-89eabbf5431b', '60fd7f16-a0de-4c98-b33a-5377e305c688', 'd21d815e-2751-40eb-88a9-6531ec755638', 'fabde8c5-100c-4e9d-8702-398a6f265b05', '2ee2b220-6128-4226-82cc-614a894bda9a', '353d389d-8c90-4fed-97b6-923bc5a5e342', '9486eb59-f7c1-487d-b72e-52b1a46f4461', 'b0b14e7e-38fb-4aa3-a1ab-02e8ffe90202', '27b54fe7-01b9-4c90-9da2-b819d50296d2', '372df474-563d-458d-ba36-401fa0447615', 'b4798a59-248f-4222-9725-126660b04f78', 'eb542490-17f8-4123-96f0-675a4d056cd8', '0c4195a5-a83f-4655-a906-d825b63ca160', 'a922bd26-9d2b-4ad2-a876-89d3dcb9f8d2', '784f23a5-0b55-4081-8f55-6a62881f515e', 'f6b107b4-cd1f-446b-8fef-e1757eff6df6', 'ddc5ec2f-17eb-40c8-af2e-79797b795a7f', 'd7164c6a-73d6-4cf2-b3a9-3be58816789d', 'eaa7d504-8999-4d86-828a-698d42c89f3c', '9a387385-432b-443c-827d-5dcfab894a9d', '2acd08cd-9fb7-4074-9a73-79fac1810284', '9b7b5369-b391-4232-9cd8-c7f9bb54337a', 'b9426ad0-874f-43b0-b17a-4d4b4de7c99d', '2901c800-079e-4e59-8c31-d08cc2578a33', '577be6f3-024f-4994-8264-314811927e42', '3a6db70a-8934-411c-af0d-8ca43d711b07', '198a9bdc-e7b1-4c2a-a8ae-1c762c3aea23', 'e3bab67d-1dd1-4e34-9725-dcc9782193c4', 'e1eeb50c-5719-4d35-8098-05fe25bdb385', 'db3fe4d7-f4dd-48df-92ba-20b5fd463dd3', 'b7b76643-ff73-470d-86e2-d9ddcf98ef1f', 'af54bd7a-0ba1-4964-a5a5-8797c371576f', '75d9b017-6a1c-4b21-be77-176898d568b6', '6c5d3acb-efef-4b83-9382-0af814a2cde6', 'cddadb93-137f-4c30-ad35-d4ff658ce410', '0081a864-adcb-45b2-9846-5409bd4cfac9', 'ee6fc60b-a728-4aa1-9c47-66dc5e937d18', '6ab73de9-fc12-475b-931b-c483cda37193', '3e64c418-a65d-4645-9ed6-a0b7f1e37237', '07b84c8e-080c-41c9-895d-d8b331e4fcaa', '6ceb0a5e-8ba9-46cb-99f0-ffd50f30b088', 'e9e3a4ce-aba8-42cd-bea1-66ae43ad2518', '51489215-c1dc-445d-a8aa-3a0f3b7fb2aa', '5323f98f-c959-4b5c-a130-0192ca3bedc4', '166583dd-f759-47a6-9080-02bf824904e2', '6715d15b-0605-47ec-82b1-a1dd41d9e479', 'c82a3423-600e-4581-9bf8-cfa068dd17fb', '747aa4cf-785c-4f44-9955-e82c430c00c5', '072ceb8c-6f83-4186-9398-cf37e86a4695', '6842d85e-4a61-4f3a-b102-32853c6a2205', '3143d9de-14fd-4ff5-b2f4-60aec41866fb', '1a0b7a2e-f5f3-498b-8d06-f5f0ba0eb761', '19634a95-241b-48b8-996c-e47f22ae8267', '6db4e3c0-5f91-4f4c-b5b4-aa809676363e', 'c0672026-f419-4023-8176-6932fe36ffb0', 'cfce0702-ea6f-4e6b-b0bb-a9c7b7508b54', '237baddb-5979-45b1-bede-0e891b0f50c9', '45cf4d18-39ff-4351-9b12-edcda8199692', 'a05511e8-c42e-436d-ac90-a2cb2a05fc3c', 'da5174ea-0bc2-4153-bd2f-61764cdfd5c5', '8f378888-8b25-458c-a56e-7909f053e089', '362aa413-b650-4614-aed5-7eeccc97cceb', 'e09c72db-0b08-4b14-8693-55f513a8fec2', '23131f4d-fcb8-4a2e-a76e-a0e2f9298841', 'f9d09eb4-e192-4131-b1ca-2f58b27bdabc', '92697549-81c4-4764-826c-17e9ba576b3f', '1a06ea67-4a1d-4321-862d-f64836586ae0', 'c548147a-33c0-41ec-8ac6-621b9ac1c951', '1fbab789-c7b0-4cc1-ae0a-d89da6de3b4e', '93dda436-d94f-4b39-91bb-0d120682aac8', '2197c1aa-0ae7-49df-b3c0-d0d9076d8d7d', '815b3da3-8054-44fd-98ef-5144acb6a4d2', '3d19a79d-0ba9-4070-a0cc-aa0ed3d53f9e', '94fbb64f-1563-4c8e-9143-e840bd3390b2', '77293106-0de8-4e8b-93e9-636afd2ef518', 'd9ac5bc1-0965-4712-83fb-da519dd5ca7e', 'c6d3ccd5-3a9b-4837-b35f-2b37617e5310', 'af08af42-cbef-403a-9f1c-618fbbe0dc50', '4248886a-3eee-4cc7-a405-d2c7e2a93b4d', '08ba8ed2-e5ae-431e-ae2b-1fdc3b405ffa', 'cc957652-4293-4431-b503-8a0d216d6e13', '5e6420d4-fbcb-4186-ae3d-72369671c203', '25801dda-5956-43e8-a2fe-eaac23baab63', 'ca90785a-6859-4824-9656-8fdb99a9c3ca', '9dccbb3c-fc22-4bc9-a655-a87a0c113717', 'afde98f5-43ee-4b84-9111-c79930ba2467', '0b636de8-36ef-400c-b938-99f188ea848a']\n"
     ]
    }
   ],
   "source": [
    "document_ids = vector_store.add_documents(documents=all_splits)\n",
    "\n",
    "print(document_ids[:3])\n",
    "\n"
   ]
  },
  {
   "cell_type": "markdown",
   "id": "70332fa8-9a4d-43f4-88eb-da65ac31548e",
   "metadata": {},
   "source": [
    "### 嵌入模型（Embeddings）  \n",
    "**定义**：用于将文本转换为嵌入向量（embeddings）的模型封装器（wrapper）。\n",
    "\n",
    "---\n",
    "\n",
    "### 向量数据库（VectorStore）  \n",
    "**定义**：对向量数据库的封装，用于存储和查询嵌入向量。\n",
    "\n",
    "---\n",
    "\n",
    "至此，我们完成了整个**索引阶段（Indexing）**。现在我们已经建立了一个可以被查询的向量数据库，其中包含我们博客文章的分块内容。当用户提供一个问题时，理想情况下我们可以返回博客中能够回答该问题的相关片段。\n",
    "\n",
    "---\n",
    "\n",
    "## 2. 检索与生成（Retrieval and Generation）\n",
    "\n",
    "现在我们来编写实际的应用逻辑。\n",
    "\n",
    "我们希望构建一个简单的应用程序，它能够：\n",
    "\n",
    "1. 接收用户的提问；\n",
    "2. 根据问题搜索相关的文档内容；\n",
    "3. 将检索到的文档内容和原始问题一起传给语言模型；\n",
    "4. 最终返回一个结构清晰、准确的回答。\n",
    "\n",
    "在**生成（Generate）**阶段，我们将使用本教程开始时所选择的 **聊天模型（Chat Model）** 来生成最终答案。\n",
    "\n"
   ]
  },
  {
   "cell_type": "code",
   "execution_count": 35,
   "id": "93266468-856f-4145-9859-db92dbe45bd9",
   "metadata": {},
   "outputs": [
    {
     "name": "stdout",
     "output_type": "stream",
     "text": [
      "Use the following pieces of context to answer the question at the end.\n",
      "If you don't know the answer, just say that you don't know, don't try to make up an answer.\n",
      "Use three sentences maximum and keep the answer as concise as possible.\n",
      "Always say \"thanks for asking!\" at the end of the answer.\n",
      "\n",
      "(context goes here)\n",
      "\n",
      "Question: (question goes here)\n",
      "\n",
      "Helpful Answer:\n"
     ]
    }
   ],
   "source": [
    "from langchain_core.prompts import PromptTemplate\n",
    "\n",
    "template = \"\"\"Use the following pieces of context to answer the question at the end.\n",
    "If you don't know the answer, just say that you don't know, don't try to make up an answer.\n",
    "Use three sentences maximum and keep the answer as concise as possible.\n",
    "Always say \"thanks for asking!\" at the end of the answer.\n",
    "\n",
    "{context}\n",
    "\n",
    "Question: {question}\n",
    "\n",
    "Helpful Answer:\"\"\"\n",
    "prompt = PromptTemplate.from_template(template)\n",
    "\n",
    "example_messages = prompt.invoke(\n",
    "    {\"context\": \"(context goes here)\", \"question\": \"(question goes here)\"}\n",
    ").to_messages()\n",
    "\n",
    "assert len(example_messages) == 1\n",
    "print(example_messages[0].content)"
   ]
  },
  {
   "cell_type": "markdown",
   "id": "e29bb427-9f3b-4aa9-a2ef-06d5c41c3c9e",
   "metadata": {},
   "source": [
    "我们将使用 **LangGraph** 将检索（retrieval）和生成（generation）步骤整合到一个应用程序中。这样做可以带来以下诸多优势：\n",
    "\n",
    "- 我们可以**一次性定义应用逻辑**，并自动支持多种调用模式，包括流式传输（streaming）、异步调用（async）和批量调用（batched calls）。\n",
    "- 通过 **LangGraph 平台**，我们可以实现更高效的部署。\n",
    "- **LangSmith** 将自动追踪应用程序的各个步骤，便于调试与优化。\n",
    "- 我们可以**轻松地为应用添加关键功能**，例如状态持久化（persistence）和人工审核（human-in-the-loop approval），而且几乎不需要大幅修改代码。\n",
    "\n",
    "---\n",
    "\n",
    "### 使用 LangGraph 需要定义三个核心部分：\n",
    "\n",
    "#### 1. **State（状态）**\n",
    "控制应用程序的输入数据、各步骤之间的数据传递以及输出结果。  \n",
    "它通常是一个 `TypedDict`，也可以是一个 `Pydantic BaseModel`。\n",
    "\n",
    "#### 2. **Nodes（节点）**\n",
    "代表应用程序中的各个步骤（即函数或操作），例如：加载问题、检索文档、生成答案等。\n",
    "\n",
    "#### 3. **Control Flow（控制流）**\n",
    "定义这些节点的执行顺序，比如“先检索再生成”。\n",
    "\n",
    "---\n",
    "\n",
    "### State（状态）详解\n",
    "\n",
    "对于一个简单的 RAG 应用程序，我们只需要跟踪以下三项数据：\n",
    "\n",
    "```python\n",
    "from typing import TypedDict\n",
    "\n",
    "class State(TypedDict):\n",
    "    question: str      # 用户的问题\n",
    "    context: str       # 检索到的相关内容\n",
    "    answer: str        # 最终生成的答案\n",
    "```\n",
    "\n",
    "这个状态对象将在整个流程中贯穿始终，作为每一步操作的数据输入和输出载体。\n"
   ]
  },
  {
   "cell_type": "code",
   "execution_count": 23,
   "id": "86dbb3b0-edf1-493a-8ad1-983b2cb0d322",
   "metadata": {},
   "outputs": [],
   "source": [
    "from langchain_core.documents import Document\n",
    "from typing_extensions import List, TypedDict\n",
    "\n",
    "\n",
    "class State(TypedDict):\n",
    "    question: str\n",
    "    context: List[Document]\n",
    "    answer: str"
   ]
  },
  {
   "cell_type": "markdown",
   "id": "6a804168-942f-4c69-b192-8ff173a41507",
   "metadata": {},
   "source": [
    "### 节点（Nodes）——应用程序的各个步骤\n",
    "\n",
    "我们先从一个包含两个步骤的简单流程开始：**检索（retrieval）** 和 **生成（generation）**。\n",
    "\n",
    "这两个步骤分别对应：\n",
    "\n",
    "1. **检索（Retrieval）**：根据用户的问题，从向量数据库中查找相关的文档内容。\n",
    "2. **生成（Generation）**：将检索到的内容和原始问题一起输入给语言模型（LLM），由它生成最终的回答。\n",
    "\n",
    "在 LangGraph 中，每个步骤都被定义为一个“节点”（Node），这些节点是函数形式的组件，接收当前的状态（State），并返回更新后的状态。通过这种方式，我们可以清晰地组织整个应用的逻辑流程。\n",
    "\n"
   ]
  },
  {
   "cell_type": "code",
   "execution_count": 24,
   "id": "3bf4140a-6392-48e5-bce1-486abb883b24",
   "metadata": {},
   "outputs": [],
   "source": [
    "def retrieve(state: State):\n",
    "    retrieved_docs = vector_store.similarity_search(state[\"question\"])\n",
    "    return {\"context\": retrieved_docs}\n",
    "\n",
    "\n",
    "def generate(state: State):\n",
    "    docs_content = \"\\n\\n\".join(doc.page_content for doc in state[\"context\"])\n",
    "    messages = prompt.invoke({\"question\": state[\"question\"], \"context\": docs_content})\n",
    "    response = llm.invoke(messages)\n",
    "    return {\"answer\": response.content}"
   ]
  },
  {
   "cell_type": "markdown",
   "id": "bc43d8ce-c163-4194-b498-4827b5e541d2",
   "metadata": {},
   "source": [
    "### 我们的检索与生成步骤\n",
    "\n",
    "#### 检索步骤（Retrieval Step）  \n",
    "我们的检索步骤非常简单：使用用户的输入问题，在向量数据库中执行**相似性搜索**，找到最相关的文档内容（context）。\n",
    "\n",
    "#### 生成步骤（Generation Step）  \n",
    "生成步骤则将检索到的上下文和原始问题一起格式化为一个提示词（prompt），然后传给聊天模型（Chat Model），由模型生成自然语言的回答。\n",
    "\n",
    "---\n",
    "\n",
    "### 控制流（Control Flow）\n",
    "\n",
    "最后，我们将整个应用程序编译成一个 **Graph（图）对象**。  \n",
    "在本例中，我们只是将“检索”和“生成”两个步骤按顺序连接起来，形成一个简单的流程：\n",
    "\n",
    "```\n",
    "[Retrieval] → [Generation]\n",
    "```\n",
    "\n",
    "这样，LangGraph 就可以根据我们定义的状态（State）、节点（Nodes）和控制流（Control Flow），自动管理数据在各个步骤之间的传递和更新。"
   ]
  },
  {
   "cell_type": "code",
   "execution_count": 25,
   "id": "b5856f07-872e-47b4-a481-faad0eca7005",
   "metadata": {},
   "outputs": [],
   "source": [
    "from langgraph.graph import START, StateGraph\n",
    "\n",
    "graph_builder = StateGraph(State).add_sequence([retrieve, generate])\n",
    "graph_builder.add_edge(START, \"retrieve\")\n",
    "graph = graph_builder.compile()"
   ]
  },
  {
   "cell_type": "code",
   "execution_count": 28,
   "id": "fdeacc25-ab0e-4f67-ac7d-be60f48a832b",
   "metadata": {},
   "outputs": [
    {
     "name": "stdout",
     "output_type": "stream",
     "text": [
      "+-----------+  \n",
      "| __start__ |  \n",
      "+-----------+  \n",
      "      *        \n",
      "      *        \n",
      "      *        \n",
      "+----------+   \n",
      "| retrieve |   \n",
      "+----------+   \n",
      "      *        \n",
      "      *        \n",
      "      *        \n",
      "+----------+   \n",
      "| generate |   \n",
      "+----------+   \n",
      "      *        \n",
      "      *        \n",
      "      *        \n",
      " +---------+   \n",
      " | __end__ |   \n",
      " +---------+   \n"
     ]
    }
   ],
   "source": [
    "print(graph.get_graph().draw_ascii())"
   ]
  },
  {
   "cell_type": "markdown",
   "id": "be956511-29b5-4bbe-8a1d-df1fb782e72d",
   "metadata": {},
   "source": [
    "### 使用（Usage）\n",
    "\n",
    "让我们来测试一下我们构建的应用程序！  \n",
    "**LangGraph 支持多种调用方式**，包括：\n",
    "\n",
    "- 同步调用（sync）\n",
    "- 异步调用（async）\n",
    "- 流式调用（streaming）\n",
    "\n",
    "#### 调用（Invoke）示例：\n",
    "\n",
    "你可以使用 `.invoke()` 方法以同步方式运行你的 RAG 应用：\n",
    "\n",
    "```python\n",
    "response = app.invoke({\"question\": \"文章中提到的自主智能体的核心组件有哪些？\"})\n",
    "print(response[\"answer\"])\n",
    "```\n",
    "\n",
    "这会触发整个流程：\n",
    "\n",
    "1. 使用问题进行文档检索；\n",
    "2. 将检索结果和问题传给语言模型；\n",
    "3. 返回生成的答案。\n"
   ]
  },
  {
   "cell_type": "code",
   "execution_count": 32,
   "id": "60048170-e023-4eaa-a3a6-c24053cc396e",
   "metadata": {},
   "outputs": [
    {
     "name": "stdout",
     "output_type": "stream",
     "text": [
      "Context: [Document(id='6a34df01-e4f1-4fc4-bff5-ac409b37b82e', metadata={'source': 'https://gyxxh.tj.gov.cn/glllm/gabsycs/gxdtgh/202504/t20250408_6902492.html'}, page_content='来源：\\n          天津市工业和信息化局\\n        \\n发布时间：\\n          2025-04-08 09:30\\n        \\n\\n\\n为深入贯彻党的二十届三中全会精神，落实《工业和信息化部办公厅关于开展中小企业出海服务专项行动的通知》及《工业和信息化部等17部门办公厅（室）关于开展2025年“一起益企”中小企业服务行动的通知》要求，进一步提升我市中小企业国际化水平和核心竞争力，助力中小企业开拓国际市场、增强风险防控能力，天津市中小企业服务中心于近日成功举办轻工产业链中小企业出海对接交流会。中国中小企业发展促进中心、天津市贸促会、天津市食品工业协会、天津市自行车电动车行业协会、武清区崔黄口镇商会，以及来自自行车、食品、地毯等领域的生产制造企业和进出口企业等20余家单位代表参加了活动。 \\u2002会上，国家中心产业集群发展研究所负责同志围绕中小企业“走出去”万帆耘海行动的实施背景、主要任务及具体进展作了专题报告，深入解读了当前中小企业出海的趋势、政策支持及发展机遇，为参会企业提供了权威的政策指导和行动路径。市贸促会会展服务中心相关负责同志重点介绍了贸促会组织的境外展会项目及我市境外参展补贴政策，并结合热点国家的贸易环境、市场动态及政策导向，为企业提供了详实的出海信息及参展支持服务，助力企业精准把握国际市场机遇。活动主题引起与会企业的高度关注，现场交流、对接气氛热烈。近年来，在国家大力推进构建以国内大循环为主体、国内国际双循环相互促进的新发展格局背景下，越来越多的中小企业将海外业务视为推动企业增长的重要战略。但在全球化经营过程中，中小企业面临诸多挑战，由于缺乏出海的实战经验，境外抗风险能力较低，减缓了我市企业出海的步伐。市中小企业服务中心2024年起已着手为有出海需求的企业搭建资源共享、经验互通的平台；2025年中心启动的“中小企业出海系列活动”涵盖出海对接交流会、国际市场调研、境外展会参展支持等多元化服务。下一步，中心将聚焦中小企业出海需求，深化与各行业协会及专业服务机构的协同合作，完善中小企业出海服务体系，整合资源系统化提供政策解读、市场开拓、国际人才引进、管理提升、跨境金融、权益保护、数字化转型及检测认证等关键节点的服务对接，助力企业提升国际化能力。推动我市中小企业在全球市场中形成竞争新优势。'), Document(id='97fb659a-dc71-4642-bb3d-1326275a9ca4', metadata={'source': 'https://gyxxh.tj.gov.cn/glllm/gabsycs/gxdtgh/202504/t20250408_6902492.html'}, page_content='来源：\\n          天津市工业和信息化局\\n        \\n发布时间：\\n          2025-04-08 09:30\\n        \\n\\n\\n为深入贯彻党的二十届三中全会精神，落实《工业和信息化部办公厅关于开展中小企业出海服务专项行动的通知》及《工业和信息化部等17部门办公厅（室）关于开展2025年“一起益企”中小企业服务行动的通知》要求，进一步提升我市中小企业国际化水平和核心竞争力，助力中小企业开拓国际市场、增强风险防控能力，天津市中小企业服务中心于近日成功举办轻工产业链中小企业出海对接交流会。中国中小企业发展促进中心、天津市贸促会、天津市食品工业协会、天津市自行车电动车行业协会、武清区崔黄口镇商会，以及来自自行车、食品、地毯等领域的生产制造企业和进出口企业等20余家单位代表参加了活动。 \\u2002会上，国家中心产业集群发展研究所负责同志围绕中小企业“走出去”万帆耘海行动的实施背景、主要任务及具体进展作了专题报告，深入解读了当前中小企业出海的趋势、政策支持及发展机遇，为参会企业提供了权威的政策指导和行动路径。市贸促会会展服务中心相关负责同志重点介绍了贸促会组织的境外展会项目及我市境外参展补贴政策，并结合热点国家的贸易环境、市场动态及政策导向，为企业提供了详实的出海信息及参展支持服务，助力企业精准把握国际市场机遇。活动主题引起与会企业的高度关注，现场交流、对接气氛热烈。近年来，在国家大力推进构建以国内大循环为主体、国内国际双循环相互促进的新发展格局背景下，越来越多的中小企业将海外业务视为推动企业增长的重要战略。但在全球化经营过程中，中小企业面临诸多挑战，由于缺乏出海的实战经验，境外抗风险能力较低，减缓了我市企业出海的步伐。市中小企业服务中心2024年起已着手为有出海需求的企业搭建资源共享、经验互通的平台；2025年中心启动的“中小企业出海系列活动”涵盖出海对接交流会、国际市场调研、境外展会参展支持等多元化服务。下一步，中心将聚焦中小企业出海需求，深化与各行业协会及专业服务机构的协同合作，完善中小企业出海服务体系，整合资源系统化提供政策解读、市场开拓、国际人才引进、管理提升、跨境金融、权益保护、数字化转型及检测认证等关键节点的服务对接，助力企业提升国际化能力。推动我市中小企业在全球市场中形成竞争新优势。'), Document(id='cb23ba32-ad51-419d-b3ea-5af544b1208b', metadata={'source': 'https://gyxxh.tj.gov.cn/glllm/gabsycs/gxdtgh/202504/t20250408_6902492.html', 'start_index': 92}, page_content='来源：\\n          天津市工业和信息化局\\n        \\n发布时间：\\n          2025-04-08 09:30\\n        \\n\\n\\n为深入贯彻党的二十届三中全会精神，落实《工业和信息化部办公厅关于开展中小企业出海服务专项行动的通知》及《工业和信息化部等17部门办公厅（室）关于开展2025年“一起益企”中小企业服务行动的通知》要求，进一步提升我市中小企业国际化水平和核心竞争力，助力中小企业开拓国际市场、增强风险防控能力，天津市中小企业服务中心于近日成功举办轻工产业链中小企业出海对接交流会。中国中小企业发展促进中心、天津市贸促会、天津市食品工业协会、天津市自行车电动车行业协会、武清区崔黄口镇商会，以及来自自行车、食品、地毯等领域的生产制造企业和进出口企业等20余家单位代表参加了活动。 \\u2002会上，国家中心产业集群发展研究所负责同志围绕中小企业“走出去”万帆耘海行动的实施背景、主要任务及具体进展作了专题报告，深入解读了当前中小企业出海的趋势、政策支持及发展机遇，为参会企业提供了权威的政策指导和行动路径。市贸促会会展服务中心相关负责同志重点介绍了贸促会组织的境外展会项目及我市境外参展补贴政策，并结合热点国家的贸易环境、市场动态及政策导向，为企业提供了详实的出海信息及参展支持服务，助力企业精准把握国际市场机遇。活动主题引起与会企业的高度关注，现场交流、对接气氛热烈。近年来，在国家大力推进构建以国内大循环为主体、国内国际双循环相互促进的新发展格局背景下，越来越多的中小企业将海外业务视为推动企业增长的重要战略。但在全球化经营过程中，中小企业面临诸多挑战，由于缺乏出海的实战经验，境外抗风险能力较低，减缓了我市企业出海的步伐。市中小企业服务中心2024年起已着手为有出海需求的企业搭建资源共享、经验互通的平台；2025年中心启动的“中小企业出海系列活动”涵盖出海对接交流会、国际市场调研、境外展会参展支持等多元化服务。下一步，中心将聚焦中小企业出海需求，深化与各行业协会及专业服务机构的协同合作，完善中小企业出海服务体系，整合资源系统化提供政策解读、市场开拓、国际人才引进、管理提升、跨境金融、权益保护、数字化转型及检测认证等关键节点的服务对接，助力企业提升国际化能力。推动我市中小企业在全球市场中形成竞争新优势。'), Document(id='cda2301b-c67f-48c1-afe1-7e6e950e728d', metadata={'source': 'https://gyxxh.tj.gov.cn/glllm/gabsycs/gxdtgh/202504/t20250408_6902492.html'}, page_content='工信动态\\n          \\n\\n\\n\\n\\n\\n        天津市中小企业服务中心成功举办轻工 产业链中小企业出海对接交流会\\n      \\n\\n来源：\\n          天津市工业和信息化局\\n        \\n发布时间：\\n          2025-04-08 09:30')]\n",
      "\n",
      "\n",
      "Answer: 约有20余家企业参加了此次活动。这些企业来自自行车、食品、地毯等领域，包括生产制造企业和进出口企业。具体提到的单位代表来自不同的行业协会和相关机构。\n"
     ]
    }
   ],
   "source": [
    "result = graph.invoke({\"question\": \"有多少家企业参加活动?\"})\n",
    "\n",
    "print(f'Context: {result[\"context\"]}\\n\\n')\n",
    "print(f'Answer: {result[\"answer\"]}')"
   ]
  },
  {
   "cell_type": "markdown",
   "id": "22031829-2433-4f65-bf47-735b9adeedcb",
   "metadata": {},
   "source": [
    "### 流式调用步骤（Stream Steps）："
   ]
  },
  {
   "cell_type": "code",
   "execution_count": 33,
   "id": "1218e378-3e0c-4427-9d78-846254d90cf5",
   "metadata": {},
   "outputs": [
    {
     "name": "stdout",
     "output_type": "stream",
     "text": [
      "{'retrieve': {'context': [Document(id='6a34df01-e4f1-4fc4-bff5-ac409b37b82e', metadata={'source': 'https://gyxxh.tj.gov.cn/glllm/gabsycs/gxdtgh/202504/t20250408_6902492.html'}, page_content='来源：\\n          天津市工业和信息化局\\n        \\n发布时间：\\n          2025-04-08 09:30\\n        \\n\\n\\n为深入贯彻党的二十届三中全会精神，落实《工业和信息化部办公厅关于开展中小企业出海服务专项行动的通知》及《工业和信息化部等17部门办公厅（室）关于开展2025年“一起益企”中小企业服务行动的通知》要求，进一步提升我市中小企业国际化水平和核心竞争力，助力中小企业开拓国际市场、增强风险防控能力，天津市中小企业服务中心于近日成功举办轻工产业链中小企业出海对接交流会。中国中小企业发展促进中心、天津市贸促会、天津市食品工业协会、天津市自行车电动车行业协会、武清区崔黄口镇商会，以及来自自行车、食品、地毯等领域的生产制造企业和进出口企业等20余家单位代表参加了活动。 \\u2002会上，国家中心产业集群发展研究所负责同志围绕中小企业“走出去”万帆耘海行动的实施背景、主要任务及具体进展作了专题报告，深入解读了当前中小企业出海的趋势、政策支持及发展机遇，为参会企业提供了权威的政策指导和行动路径。市贸促会会展服务中心相关负责同志重点介绍了贸促会组织的境外展会项目及我市境外参展补贴政策，并结合热点国家的贸易环境、市场动态及政策导向，为企业提供了详实的出海信息及参展支持服务，助力企业精准把握国际市场机遇。活动主题引起与会企业的高度关注，现场交流、对接气氛热烈。近年来，在国家大力推进构建以国内大循环为主体、国内国际双循环相互促进的新发展格局背景下，越来越多的中小企业将海外业务视为推动企业增长的重要战略。但在全球化经营过程中，中小企业面临诸多挑战，由于缺乏出海的实战经验，境外抗风险能力较低，减缓了我市企业出海的步伐。市中小企业服务中心2024年起已着手为有出海需求的企业搭建资源共享、经验互通的平台；2025年中心启动的“中小企业出海系列活动”涵盖出海对接交流会、国际市场调研、境外展会参展支持等多元化服务。下一步，中心将聚焦中小企业出海需求，深化与各行业协会及专业服务机构的协同合作，完善中小企业出海服务体系，整合资源系统化提供政策解读、市场开拓、国际人才引进、管理提升、跨境金融、权益保护、数字化转型及检测认证等关键节点的服务对接，助力企业提升国际化能力。推动我市中小企业在全球市场中形成竞争新优势。'), Document(id='97fb659a-dc71-4642-bb3d-1326275a9ca4', metadata={'source': 'https://gyxxh.tj.gov.cn/glllm/gabsycs/gxdtgh/202504/t20250408_6902492.html'}, page_content='来源：\\n          天津市工业和信息化局\\n        \\n发布时间：\\n          2025-04-08 09:30\\n        \\n\\n\\n为深入贯彻党的二十届三中全会精神，落实《工业和信息化部办公厅关于开展中小企业出海服务专项行动的通知》及《工业和信息化部等17部门办公厅（室）关于开展2025年“一起益企”中小企业服务行动的通知》要求，进一步提升我市中小企业国际化水平和核心竞争力，助力中小企业开拓国际市场、增强风险防控能力，天津市中小企业服务中心于近日成功举办轻工产业链中小企业出海对接交流会。中国中小企业发展促进中心、天津市贸促会、天津市食品工业协会、天津市自行车电动车行业协会、武清区崔黄口镇商会，以及来自自行车、食品、地毯等领域的生产制造企业和进出口企业等20余家单位代表参加了活动。 \\u2002会上，国家中心产业集群发展研究所负责同志围绕中小企业“走出去”万帆耘海行动的实施背景、主要任务及具体进展作了专题报告，深入解读了当前中小企业出海的趋势、政策支持及发展机遇，为参会企业提供了权威的政策指导和行动路径。市贸促会会展服务中心相关负责同志重点介绍了贸促会组织的境外展会项目及我市境外参展补贴政策，并结合热点国家的贸易环境、市场动态及政策导向，为企业提供了详实的出海信息及参展支持服务，助力企业精准把握国际市场机遇。活动主题引起与会企业的高度关注，现场交流、对接气氛热烈。近年来，在国家大力推进构建以国内大循环为主体、国内国际双循环相互促进的新发展格局背景下，越来越多的中小企业将海外业务视为推动企业增长的重要战略。但在全球化经营过程中，中小企业面临诸多挑战，由于缺乏出海的实战经验，境外抗风险能力较低，减缓了我市企业出海的步伐。市中小企业服务中心2024年起已着手为有出海需求的企业搭建资源共享、经验互通的平台；2025年中心启动的“中小企业出海系列活动”涵盖出海对接交流会、国际市场调研、境外展会参展支持等多元化服务。下一步，中心将聚焦中小企业出海需求，深化与各行业协会及专业服务机构的协同合作，完善中小企业出海服务体系，整合资源系统化提供政策解读、市场开拓、国际人才引进、管理提升、跨境金融、权益保护、数字化转型及检测认证等关键节点的服务对接，助力企业提升国际化能力。推动我市中小企业在全球市场中形成竞争新优势。'), Document(id='cb23ba32-ad51-419d-b3ea-5af544b1208b', metadata={'source': 'https://gyxxh.tj.gov.cn/glllm/gabsycs/gxdtgh/202504/t20250408_6902492.html', 'start_index': 92}, page_content='来源：\\n          天津市工业和信息化局\\n        \\n发布时间：\\n          2025-04-08 09:30\\n        \\n\\n\\n为深入贯彻党的二十届三中全会精神，落实《工业和信息化部办公厅关于开展中小企业出海服务专项行动的通知》及《工业和信息化部等17部门办公厅（室）关于开展2025年“一起益企”中小企业服务行动的通知》要求，进一步提升我市中小企业国际化水平和核心竞争力，助力中小企业开拓国际市场、增强风险防控能力，天津市中小企业服务中心于近日成功举办轻工产业链中小企业出海对接交流会。中国中小企业发展促进中心、天津市贸促会、天津市食品工业协会、天津市自行车电动车行业协会、武清区崔黄口镇商会，以及来自自行车、食品、地毯等领域的生产制造企业和进出口企业等20余家单位代表参加了活动。 \\u2002会上，国家中心产业集群发展研究所负责同志围绕中小企业“走出去”万帆耘海行动的实施背景、主要任务及具体进展作了专题报告，深入解读了当前中小企业出海的趋势、政策支持及发展机遇，为参会企业提供了权威的政策指导和行动路径。市贸促会会展服务中心相关负责同志重点介绍了贸促会组织的境外展会项目及我市境外参展补贴政策，并结合热点国家的贸易环境、市场动态及政策导向，为企业提供了详实的出海信息及参展支持服务，助力企业精准把握国际市场机遇。活动主题引起与会企业的高度关注，现场交流、对接气氛热烈。近年来，在国家大力推进构建以国内大循环为主体、国内国际双循环相互促进的新发展格局背景下，越来越多的中小企业将海外业务视为推动企业增长的重要战略。但在全球化经营过程中，中小企业面临诸多挑战，由于缺乏出海的实战经验，境外抗风险能力较低，减缓了我市企业出海的步伐。市中小企业服务中心2024年起已着手为有出海需求的企业搭建资源共享、经验互通的平台；2025年中心启动的“中小企业出海系列活动”涵盖出海对接交流会、国际市场调研、境外展会参展支持等多元化服务。下一步，中心将聚焦中小企业出海需求，深化与各行业协会及专业服务机构的协同合作，完善中小企业出海服务体系，整合资源系统化提供政策解读、市场开拓、国际人才引进、管理提升、跨境金融、权益保护、数字化转型及检测认证等关键节点的服务对接，助力企业提升国际化能力。推动我市中小企业在全球市场中形成竞争新优势。'), Document(id='cda2301b-c67f-48c1-afe1-7e6e950e728d', metadata={'source': 'https://gyxxh.tj.gov.cn/glllm/gabsycs/gxdtgh/202504/t20250408_6902492.html'}, page_content='工信动态\\n          \\n\\n\\n\\n\\n\\n        天津市中小企业服务中心成功举办轻工 产业链中小企业出海对接交流会\\n      \\n\\n来源：\\n          天津市工业和信息化局\\n        \\n发布时间：\\n          2025-04-08 09:30')]}}\n",
      "\n",
      "----------------\n",
      "\n",
      "{'generate': {'answer': '参加活动的企业约有20余家。这些企业来自自行车、食品、地毯等领域，包括生产制造企业和进出口企业。活动由天津市中小企业服务中心主办，得到了多个行业协会和机构的支持。'}}\n",
      "\n",
      "----------------\n",
      "\n"
     ]
    }
   ],
   "source": [
    "for step in graph.stream(\n",
    "    {\"question\": \"有多少家企业参加活动?\"}, stream_mode=\"updates\"\n",
    "):\n",
    "    print(f\"{step}\\n\\n----------------\\n\")"
   ]
  },
  {
   "cell_type": "markdown",
   "id": "53806dc3-49a3-4724-93f7-bc8bc2ffe247",
   "metadata": {},
   "source": [
    "### 流式传输 Token（Stream Tokens）："
   ]
  },
  {
   "cell_type": "code",
   "execution_count": 34,
   "id": "03c372d4-495a-483d-a6f7-95cf51cb9891",
   "metadata": {},
   "outputs": [
    {
     "name": "stdout",
     "output_type": "stream",
     "text": [
      "约|有|2|0余家企业参加了|此次活动。||"
     ]
    }
   ],
   "source": [
    "for message, metadata in graph.stream(\n",
    "    {\"question\": \"有多少家企业参加活动?\"}, stream_mode=\"messages\"\n",
    "):\n",
    "    print(message.content, end=\"|\")"
   ]
  },
  {
   "cell_type": "markdown",
   "id": "343c9cc6-131b-4509-bfe4-b331ac7d91cd",
   "metadata": {},
   "source": [
    "## 完整例子"
   ]
  },
  {
   "cell_type": "code",
   "execution_count": 42,
   "id": "5faee1aa-e2a0-46b8-b027-c975d7ccfefc",
   "metadata": {},
   "outputs": [],
   "source": [
    "import bs4\n",
    "from langchain import hub\n",
    "from langchain_community.document_loaders import WebBaseLoader\n",
    "from langchain_core.documents import Document\n",
    "from langchain_text_splitters import RecursiveCharacterTextSplitter\n",
    "from langgraph.graph import START, StateGraph\n",
    "from typing_extensions import List, TypedDict\n",
    "\n",
    "# Load and chunk contents of the blog\n",
    "loader = WebBaseLoader(\n",
    "    web_paths=(\"https://gyxxh.tj.gov.cn/glllm/gabsycs/gxdtgh/202504/t20250408_6902492.html\",),\n",
    "    bs_kwargs=dict(\n",
    "        parse_only=bs4.SoupStrainer(\n",
    "            class_=(\"view-wrap\")\n",
    "        )\n",
    "    ),\n",
    ")\n",
    "docs = loader.load()\n",
    "\n",
    "text_splitter = RecursiveCharacterTextSplitter(chunk_size=1000, chunk_overlap=200)\n",
    "all_splits = text_splitter.split_documents(docs)\n",
    "\n",
    "# Index chunks\n",
    "_ = vector_store.add_documents(documents=all_splits)\n",
    "\n",
    "from langchain_core.prompts import ChatPromptTemplate\n",
    "\n",
    "from langchain_core.prompts import PromptTemplate\n",
    "\n",
    "template = \"\"\"Use the following pieces of context to answer the question at the end.\n",
    "If you don't know the answer, just say that you don't know, don't try to make up an answer.\n",
    "Use three sentences maximum and keep the answer as concise as possible.\n",
    "Always say \"thanks for asking!\" at the end of the answer.\n",
    "\n",
    "{context}\n",
    "\n",
    "Question: {question}\n",
    "\n",
    "Helpful Answer:\"\"\"\n",
    "prompt = PromptTemplate.from_template(template)\n",
    "\n",
    "# Define state for application\n",
    "class State(TypedDict):\n",
    "    question: str\n",
    "    context: List[Document]\n",
    "    answer: str\n",
    "\n",
    "\n",
    "# Define application steps\n",
    "def retrieve(state: State):\n",
    "    retrieved_docs = vector_store.similarity_search(state[\"question\"])\n",
    "    return {\"context\": retrieved_docs}\n",
    "\n",
    "\n",
    "def generate(state: State):\n",
    "    docs_content = \"\\n\\n\".join(doc.page_content for doc in state[\"context\"])\n",
    "    messages = prompt.invoke({\"question\": state[\"question\"], \"context\": docs_content})\n",
    "    response = llm.invoke(messages)\n",
    "    return {\"answer\": response.content}\n",
    "\n",
    "\n",
    "# Compile application and test\n",
    "graph_builder = StateGraph(State).add_sequence([retrieve, generate])\n",
    "graph_builder.add_edge(START, \"retrieve\")\n",
    "graph = graph_builder.compile()"
   ]
  },
  {
   "cell_type": "code",
   "execution_count": 44,
   "id": "df29941d-f0bf-48f2-a430-0fee26cdcde6",
   "metadata": {},
   "outputs": [
    {
     "name": "stdout",
     "output_type": "stream",
     "text": [
      "约20家企业代表参加了活动。  \n",
      "thanks for asking!\n"
     ]
    }
   ],
   "source": [
    "response = graph.invoke({\"question\": \"有多少家企业参加活动?\"})\n",
    "print(response[\"answer\"])"
   ]
  },
  {
   "cell_type": "code",
   "execution_count": null,
   "id": "5792709d-9eae-4729-8b97-700595f3bb87",
   "metadata": {},
   "outputs": [],
   "source": []
  }
 ],
 "metadata": {
  "kernelspec": {
   "display_name": "langchain-env",
   "language": "python",
   "name": "python3"
  },
  "language_info": {
   "codemirror_mode": {
    "name": "ipython",
    "version": 3
   },
   "file_extension": ".py",
   "mimetype": "text/x-python",
   "name": "python",
   "nbconvert_exporter": "python",
   "pygments_lexer": "ipython3",
   "version": "3.10.18"
  }
 },
 "nbformat": 4,
 "nbformat_minor": 5
}
